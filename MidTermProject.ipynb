{
 "cells": [
  {
   "cell_type": "code",
   "execution_count": 1,
   "id": "0d0eda07",
   "metadata": {},
   "outputs": [],
   "source": [
    "# import pandas as pd\n",
    "# import requests\n",
    "# from bs4 import BeautifulSoup"
   ]
  },
  {
   "cell_type": "code",
   "execution_count": 2,
   "id": "957a4833",
   "metadata": {},
   "outputs": [],
   "source": [
    "# url = 'https://www.apple.com/mac/'"
   ]
  },
  {
   "cell_type": "code",
   "execution_count": 3,
   "id": "6d888828",
   "metadata": {},
   "outputs": [],
   "source": [
    "# page = requests.get(url)"
   ]
  },
  {
   "cell_type": "code",
   "execution_count": 4,
   "id": "b7a6b287",
   "metadata": {},
   "outputs": [],
   "source": [
    "# page.content"
   ]
  },
  {
   "cell_type": "code",
   "execution_count": 5,
   "id": "59bda9c7",
   "metadata": {},
   "outputs": [],
   "source": [
    "# soup = BeautifulSoup(page.content , 'html.parser')"
   ]
  },
  {
   "cell_type": "code",
   "execution_count": 6,
   "id": "6ad07535",
   "metadata": {},
   "outputs": [],
   "source": [
    "# soup"
   ]
  },
  {
   "cell_type": "code",
   "execution_count": 7,
   "id": "00f04d11",
   "metadata": {},
   "outputs": [],
   "source": [
    "# content = soup.findAll(attrs = {'class' : 'device-content'})"
   ]
  },
  {
   "cell_type": "code",
   "execution_count": 31,
   "id": "c789d933",
   "metadata": {},
   "outputs": [],
   "source": [
    "# content"
   ]
  },
  {
   "cell_type": "code",
   "execution_count": 8,
   "id": "fd5e766f",
   "metadata": {},
   "outputs": [],
   "source": [
    "# content[0].text.replace('\\n' , ' ')"
   ]
  },
  {
   "cell_type": "code",
   "execution_count": 9,
   "id": "7bca6ec8",
   "metadata": {},
   "outputs": [],
   "source": [
    "# content[1].text.replace('\\n' , ' ')"
   ]
  },
  {
   "cell_type": "code",
   "execution_count": 10,
   "id": "f8e8dfbf",
   "metadata": {},
   "outputs": [],
   "source": [
    "# content[2].text.replace('\\n' , ' ')"
   ]
  },
  {
   "cell_type": "code",
   "execution_count": 11,
   "id": "4c835597",
   "metadata": {},
   "outputs": [],
   "source": [
    "# content[3].text.replace('\\n' , ' ')"
   ]
  },
  {
   "cell_type": "code",
   "execution_count": 12,
   "id": "a8af44c8",
   "metadata": {},
   "outputs": [],
   "source": [
    "# content[4].text.replace('\\n' , ' ')"
   ]
  },
  {
   "cell_type": "code",
   "execution_count": 13,
   "id": "78eaf080",
   "metadata": {},
   "outputs": [],
   "source": [
    "# content[5].text.replace('\\n' , ' ')"
   ]
  },
  {
   "cell_type": "code",
   "execution_count": 14,
   "id": "ee09b9c2",
   "metadata": {},
   "outputs": [],
   "source": [
    "# content[6].text.replace('\\n' , ' ')"
   ]
  },
  {
   "cell_type": "code",
   "execution_count": 15,
   "id": "3d88c16b",
   "metadata": {},
   "outputs": [],
   "source": [
    "# url = 'https://www.czone.com.pk/laptops-apple-laptops-pakistan-pt.281.aspx'"
   ]
  },
  {
   "cell_type": "code",
   "execution_count": 16,
   "id": "c729d4e9",
   "metadata": {},
   "outputs": [],
   "source": [
    "# page = requests.get(url)"
   ]
  },
  {
   "cell_type": "code",
   "execution_count": 17,
   "id": "0ea0b476",
   "metadata": {},
   "outputs": [],
   "source": [
    "# page.content"
   ]
  },
  {
   "cell_type": "code",
   "execution_count": 18,
   "id": "3990d8e3",
   "metadata": {},
   "outputs": [],
   "source": [
    "# soup = BeautifulSoup(page.content , 'html.parser')"
   ]
  },
  {
   "cell_type": "code",
   "execution_count": 19,
   "id": "223cbb4a",
   "metadata": {},
   "outputs": [],
   "source": [
    "# soup"
   ]
  },
  {
   "cell_type": "code",
   "execution_count": 20,
   "id": "35fb461a",
   "metadata": {},
   "outputs": [],
   "source": [
    "# content = soup.findAll(attrs = {'class' : 'row categoryProduct xsResponse clearfix'})"
   ]
  },
  {
   "cell_type": "code",
   "execution_count": 21,
   "id": "b5462208",
   "metadata": {},
   "outputs": [],
   "source": [
    "# content"
   ]
  },
  {
   "cell_type": "code",
   "execution_count": 56,
   "id": "d192b6db",
   "metadata": {},
   "outputs": [],
   "source": [
    "# products=[] \n",
    "# prices=[]  \n",
    "# ratings=[]\n",
    "\n",
    "# for a in soup.findAll('div',attrs={'class':'row categoryProduct xsResponse clearfix'}):\n",
    "#     print (a)\n",
    "#     products=a.find('a', attrs={'class':'product-code no-padding'})\n",
    "#     price=a.find('div', attrs={'class':'price'})\n",
    "#     rating=a.find('div', attrs={'class':'rating'})\n",
    "#     products.append(products.text)\n",
    "#     prices.append(price.text)\n",
    "#     ratings.append(rating.text)\n",
    "    \n",
    "# df = pd.DataFrame({'Product Name':products,'Price':prices,'Rating':ratings})\n",
    "# df.to_csv('products.csv', index=False, encoding='utf-8')"
   ]
  },
  {
   "cell_type": "code",
   "execution_count": 22,
   "id": "b04293b4",
   "metadata": {},
   "outputs": [],
   "source": [
    "# products = soup.find(attrs = {'class' : 'row categoryProduct xsResponse clearfix'}).text.replace('\\n' , '')"
   ]
  },
  {
   "cell_type": "code",
   "execution_count": 23,
   "id": "9f23d9eb",
   "metadata": {},
   "outputs": [],
   "source": [
    "# price = soup.find(attrs = {'class' : 'price'}).text.replace('\\n' , '')"
   ]
  },
  {
   "cell_type": "code",
   "execution_count": 24,
   "id": "b0491e7b",
   "metadata": {},
   "outputs": [],
   "source": [
    "# ratings = soup.find(attrs = {'class' : 'rating'}).text.replace('\\n' , '')"
   ]
  },
  {
   "cell_type": "code",
   "execution_count": 25,
   "id": "98c74ddc",
   "metadata": {},
   "outputs": [],
   "source": [
    "# data = [[url , products , price , ratings]]"
   ]
  },
  {
   "cell_type": "code",
   "execution_count": null,
   "id": "adba5b71",
   "metadata": {},
   "outputs": [],
   "source": []
  },
  {
   "cell_type": "code",
   "execution_count": 26,
   "id": "3de5f105",
   "metadata": {},
   "outputs": [],
   "source": [
    "# df = pd.DataFrame(data , columns=['url','products','price','ratings'])"
   ]
  },
  {
   "cell_type": "code",
   "execution_count": 27,
   "id": "ee80bd1b",
   "metadata": {},
   "outputs": [],
   "source": [
    "# df"
   ]
  },
  {
   "cell_type": "code",
   "execution_count": 28,
   "id": "3fb884af",
   "metadata": {},
   "outputs": [],
   "source": [
    "# df.to_csv('products.csv')"
   ]
  },
  {
   "cell_type": "code",
   "execution_count": 30,
   "id": "19edb5e1",
   "metadata": {},
   "outputs": [],
   "source": [
    "# for i in range(1,11):\n",
    "#     url = 'https://www.czone.com.pk/laptops-apple-laptops-pakistan-pt.281.aspx' + str(i)\n",
    "#     page = requests.get(url)\n",
    "#     if(True):\n",
    "#         print('Data Fetched Successfully' , i)\n",
    "#         soup = BeautifulSoup(page.content , 'html.parser')\n",
    "#         products = soup.find(attrs = {'class' : 'row categoryProduct xsResponse clearfix'})\n",
    "#         price = soup.find(attrs = {'class' : 'price'}) \n",
    "#         ratings = soup.find(attrs = {'class' : 'rating'}) \n",
    "#         data = ([[url , products , price , ratings]])\n",
    "#     else:\n",
    "#         print('url not found' , i)\n",
    "        \n",
    "# df = pd.DataFrame(data , columns=['url','products','price','ratings'])\n",
    "# df.to_csv('laptop.csv')"
   ]
  },
  {
   "cell_type": "code",
   "execution_count": null,
   "id": "55e4ba50",
   "metadata": {},
   "outputs": [],
   "source": [
    "\n"
   ]
  },
  {
   "cell_type": "code",
   "execution_count": 5,
   "id": "a3e17a46",
   "metadata": {},
   "outputs": [
    {
     "name": "stdout",
     "output_type": "stream",
     "text": [
      "\n",
      "Note: you may need to restart the kernel to use updated packages.\n",
      "\n",
      "Note: you may need to restart the kernel to use updated packages.\n",
      "\n",
      "Note: you may need to restart the kernel to use updated packages.\n",
      "\n",
      "Note: you may need to restart the kernel to use updated packages.\n",
      "\n",
      "Note: you may need to restart the kernel to use updated packages.\n",
      "\n",
      "Note: you may need to restart the kernel to use updated packages.\n"
     ]
    },
    {
     "name": "stderr",
     "output_type": "stream",
     "text": [
      "'crumb' is not recognized as an internal or external command,\n",
      "operable program or batch file.\n",
      "'crumb' is not recognized as an internal or external command,\n",
      "operable program or batch file.\n",
      "\n",
      "EnvironmentLocationNotFound: Not a conda environment: D:\\New\n",
      "\n",
      "'crumb' is not recognized as an internal or external command,\n",
      "operable program or batch file.\n",
      "'crumb' is not recognized as an internal or external command,\n",
      "operable program or batch file.\n",
      "\n",
      "EnvironmentLocationNotFound: Not a conda environment: D:\\New\n",
      "\n",
      "'crumb' is not recognized as an internal or external command,\n",
      "operable program or batch file.\n",
      "'crumb' is not recognized as an internal or external command,\n",
      "operable program or batch file.\n",
      "\n",
      "EnvironmentLocationNotFound: Not a conda environment: D:\\New\n",
      "\n",
      "'crumb' is not recognized as an internal or external command,\n",
      "operable program or batch file.\n",
      "'crumb' is not recognized as an internal or external command,\n",
      "operable program or batch file.\n",
      "\n",
      "EnvironmentLocationNotFound: Not a conda environment: D:\\New\n",
      "\n",
      "'crumb' is not recognized as an internal or external command,\n",
      "operable program or batch file.\n",
      "'crumb' is not recognized as an internal or external command,\n",
      "operable program or batch file.\n",
      "\n",
      "EnvironmentLocationNotFound: Not a conda environment: D:\\New\n",
      "\n",
      "'crumb' is not recognized as an internal or external command,\n",
      "operable program or batch file.\n",
      "'crumb' is not recognized as an internal or external command,\n",
      "operable program or batch file.\n",
      "\n",
      "EnvironmentLocationNotFound: Not a conda environment: D:\\New\n",
      "\n"
     ]
    }
   ],
   "source": [
    "conda install selenium"
   ]
  },
  {
   "cell_type": "code",
   "execution_count": null,
   "id": "b8d6adc8",
   "metadata": {},
   "outputs": [],
   "source": [
    "# from selenium import webdriver\n",
    "# from bs4 import BeautifulSoup\n",
    "# import pandas as pd\n",
    "\n",
    "# browser =  r\"C:\\Users\\DELL\\Desktop\\web driver\\chrome.exe\")\n",
    "# All_url=[] #List to store all the urls that we are going to use to scrap data\n",
    "\n",
    "# df = pd.read_csv('laptop.csv')"
   ]
  },
  {
   "cell_type": "code",
   "execution_count": 4,
   "id": "512a1a1c",
   "metadata": {},
   "outputs": [],
   "source": [
    "\n",
    "# chrome_driver = r'C:\\Users\\DELL\\Desktop\\web driver\\chromedriver.exe'\n",
    "# driver = webdriver.Chrome(chrome_driver)\n",
    "# driver.get('https://www.google.com')"
   ]
  },
  {
   "cell_type": "code",
   "execution_count": 4,
   "id": "84bf2412",
   "metadata": {},
   "outputs": [],
   "source": [
    "# import selenium\n",
    "# from selenium import webdriver\n",
    "# from time import sleep\n",
    "\n",
    "# class MyBot:\n",
    "#     def __init__(self):\n",
    "#         self.driver = webdriver.com()\n",
    "#         self.driver.get('https://www.google.com')\n",
    "#         self.driver.maximize_window()\n",
    "#         print(self.driver.title)\n",
    "#         sleep(1)\n",
    "        \n",
    "# MyBot()"
   ]
  },
  {
   "cell_type": "code",
   "execution_count": 7,
   "id": "01c5c4d3",
   "metadata": {},
   "outputs": [],
   "source": [
    "import selenium"
   ]
  },
  {
   "cell_type": "code",
   "execution_count": 10,
   "id": "d8ef800a",
   "metadata": {},
   "outputs": [
    {
     "name": "stdout",
     "output_type": "stream",
     "text": [
      "macbook | eBay\n",
      " Skip to main contentShop by categoryShop by categoryEnter your search keyword All CategoriesAntiques Art Baby Books & Magazines Business & Industrial Cameras & Photo Cell Phones & Accessories Clothing, Shoes & Accessories Coins & Paper Money Collectibles Computers/Tablets & Networking Consumer Electronics Crafts Dolls & Bears Entertainment Memorabilia Everything Else Gift Cards & Coupons Health & Beauty Home & Garden Jewelry & Watches Movies & TV Music Musical Instruments & Gear Pet Supplies Pottery & Glass Real Estate Specialty Services Sporting Goods Sports Mem, Cards & Fan Shop Stamps Tickets & Experiences Toys & Hobbies Travel Video Games & ConsolesAdvancedHi (Sign in to bid or buy) Daily Deals Help & ContactShip toLoading...Error: Try AgainOk  SellWatchlistExpand Watch ListLoading...Sign in to see your user information My eBayExpand My eBay Summary Recently Viewed Bids/Offers Watchlist Purchase History Buy Again Selling Saved Searches Saved Sellers MessagesNotification  Expand CartLoading...Something went wrong. View cart for details.    A+++A++A+ADEFGA+++A++A+ABCDEFGRelated:macbook prolaptopmacbook airipadiphoneimacmacbook m1pc laptops netbooksapple watchmac minimacbook pro 2015macbook 2020Include descriptionCategoryAllComputers/Tablets & NetworkingLaptops & NetbooksSelected categoryApple LaptopsPC Laptops & NetbookseBay MotorsHome & GardenCraftsCell Phones & AccessoriesClothing, Shoes & AccessoriesConsumer ElectronicsSpecialty ServicesEverything ElseBooks & MagazinesCollectiblesBusiness & IndustrialSporting GoodsSports Mem, Cards & Fan ShopVideo Games & ConsolesCameras & PhotoDolls & BearsTravelMusical Instruments & GearJewelry & WatchesHealth & BeautyToys & HobbiesArtEntertainment MemorabiliaMusicPet SuppliesStampsMovies & TVAntiquesBabyCoins & Paper MoneyShow MoreRelease Year2020 (2,909) Items (2,909)2019 (2,569) Items (2,569)2018 (1,049) Items (1,049)2017 (2,511) Items (2,511)2016 (1,010) Items (1,010)2015 (7,697) Items (7,697)2013 (1,783) Items (1,783)2012 (3,253) Items (3,253)see allSeriesMacBook Pro (21,135) Items (21,135)MacBook Air (5,880) Items (5,880)MacBook (3,183) Items (3,183)Not Specified (12,794) Items (12,794)see allScreen Size12-12.9 in (540) Items (540)13-13.9 in (16,987) Items (16,987)14-14.9 in (32) Items (32)15-15.9 in (8,447) Items (8,447)16-16.9 in (579) Items (579)Not Specified (6,765) Items (6,765)see allRAM Size16 GB (13,193) Items (13,193)8 GB (12,813) Items (12,813)4 GB (6,990) Items (6,990)32 GB (399) Items (399)512 GB (865) Items (865)256 GB (1,527) Items (1,527)2 GB (731) Items (731)128 GB (579) Items (579)see allProcessorApple M1 (831) Items (831)Intel Core 2 Duo (2,957) Items (2,957)Intel Core i5 5th Gen. (2,272) Items (2,272)Intel Core i7 4th Gen. (1,318) Items (1,318)Intel Core i9 9th Gen. (466) Items (466)Intel Core i5 3rd Gen. (1,667) Items (1,667)Intel Core i5 8th Gen. (968) Items (968)Intel Core i7 5th Gen. (893) Items (893)see allHard Drive Capacity100-249 GB (4,683) Items (4,683)250-499 GB (8,228) Items (8,228)500-749 GB (8,271) Items (8,271)1-2 TB (7,846) Items (7,846)1 TB (10,371) Items (10,371)2 TB (2,868) Items (2,868)256 GB (7,009) Items (7,009)500 GB (4,686) Items (4,686)see allFeaturesBacklit Keyboard (11,285) Items (11,285)Bluetooth (11,093) Items (11,093)Built-in Webcam (10,749) Items (10,749)Built-in Microphone (10,509) Items (10,509)Wi-Fi (6,901) Items (6,901)Multi-Touch Trackpad (6,813) Items (6,813)Force Touch Trackpad (4,614) Items (4,614)Touch ID (3,206) Items (3,206)see allModelMacBook Pro (11,473) Items (11,473)MacBook Pro (Retina) (5,542) Items (5,542)MacBook Air (4,650) Items (4,650)MacBook (3,452) Items (3,452)MacBook Pro (Thunderbolt 3) (458) Items (458)MacBook Pro (Unibody) (177) Items (177)MacBook (Unibody) (172) Items (172)MacBook Pro (Magic Keyboard) (154) Items (154)see allMost Suitable ForCasual Computing (8,315) Items (8,315)Gaming (2,711) Items (2,711)Graphic Design (4,166) Items (4,166)Parts (1,516) Items (1,516)Workstation (2,747) Items (2,747)Not Specified (31,135) Items (31,135)see allConditionNew (1,953) Items (1,953)Open box (863) Items (863)Certified - Refurbished (62) Items (62)Seller refurbished (15,769) Items (15,769)Used (20,552) Items (20,552)For parts or not working (2,953) Items (2,953)Not Specified (28) Items (28)see allPriceUnder $280.00$280.00 to $460.00Over $460.00Please provide a valid price range$to $see allBuying FormatAll Listings (42,180)Accepts Offers (13,396)Auction (2,913)Buy It Now (39,850)see allItem LocationDefaultUS OnlyNorth AmericaEuropeAsiasee allShipping OptionsFree International Shippingsee allLocal PickupFree Local Pickupsee allShow onlyFree ReturnsReturns AcceptedAuthorized SellerCompleted ItemsSold ItemsDeals & SavingsAuthenticity Guaranteesee allMore filters...All ListingsAccepts OffersAuctionBuy It NowBuying FormatAll ListingsAccepts OffersAuctionBuy It NowConditionAny ConditionNewOpen boxCertified - RefurbishedSeller refurbishedUsedFor parts or not workingNot SpecifiedShippingFree International ShippingLocalFree Local PickupSortBest MatchBest MatchTime: ending soonestTime: newly listedPrice + Shipping: lowest firstPrice + Shipping: highest firstDistance: nearest firstGallery ViewCustomize18,159 results for macbookSave this searchShipping to: PakistanUpdate your shipping locationAfghanistan - AFGAlbania - ALBAlgeria - DZAAmerican Samoa - ASMAndorra - ANDAngola - AGOAnguilla - AIAAntigua and Barbuda - ATGArgentina - ARGArmenia - ARMAruba - ABWAustralia - AUSAustria - AUTAzerbaijan Republic - AZEBahamas - BHSBahrain - BHRBangladesh - BGDBarbados - BRBBelarus - BLRBelgium - BELBelize - BLZBenin - BENBermuda - BMUBhutan - BTNBolivia - BOLBosnia and Herzegovina - BIHBotswana - BWABrazil - BRABritish Virgin Islands - VGBBrunei Darussalam - BRNBulgaria - BGRBurkina Faso - BFABurma - MMRBurundi - BDICambodia - KHMCameroon - CMRCanada - CANCape Verde Islands - CPVCayman Islands - CYMCentral African Republic - CAFChad - TCDChile - CHLChina - CHNColombia - COLComoros - COMCongo, Democratic Republic of the - CODCongo, Republic of the - COGCook Islands - COKCosta Rica - CRICote d Ivoire (Ivory Coast) - CIVCroatia, Republic of - HRVCyprus - CYPCzech Republic - CZEDenmark - DNKDjibouti - DJIDominica - DMADominican Republic - DOMEcuador - ECUEgypt - EGYEl Salvador - SLVEquatorial Guinea - GNQEritrea - ERIEstonia - ESTEthiopia - ETHFalkland Islands (Islas Malvinas) - FLKFiji - FJIFinland - FINFrance - FRAFrench Guiana - GUFFrench Polynesia - PYFGabon Republic - GABGambia - GMBGeorgia - GEOGermany - DEUGhana - GHAGibraltar - GIBGreece - GRCGreenland - GRLGrenada - GRDGuadeloupe - GLPGuam - GUMGuatemala - GTMGuernsey - GGGuinea - GINGuinea-Bissau - GNBGuyana - GUYHaiti - HTIHonduras - HNDHong Kong - HKGHungary - HUNIceland - ISLIndia - INDIndonesia - IDNIreland - IRLIsrael - ISRItaly - ITAJamaica - JAMJapan - JPNJersey - JEJordan - JORKazakhstan - KAZKenya - KENKiribati - KIRKorea, South - KORKuwait - KWTKyrgyzstan - KGZLaos - LAOLatvia - LVALebanon - LBNLiechtenstein - LIELithuania - LTULuxembourg - LUXMacau - MACMacedonia - MKDMadagascar - MDGMalawi - MWIMalaysia - MYSMaldives - MDVMali - MLIMalta - MLTMarshall Islands - MHLMartinique - MTQMauritania - MRTMauritius - MUSMayotte - MYTMexico - MEXMicronesia - FSMMoldova - MDAMonaco - MCOMongolia - MNGMontenegro - MNEMontserrat - MSRMorocco - MARMozambique - MOZNamibia - NAMNauru - NRUNepal - NPLNetherlands - NLDNetherlands Antilles - ANTNew Caledonia - NCLNew Zealand - NZLNicaragua - NICNiger - NERNigeria - NGANiue - NIUNorway - NOROman - OMNPakistan - PAKPalau - PLWPanama - PANPapua New Guinea - PNGParaguay - PRYPeru - PERPhilippines - PHLPoland - POLPortugal - PRTPuerto Rico - PRIQatar - QATReunion - REURomania - ROURussian Federation - RUSRwanda - RWASaint Helena - SHNSaint Kitts-Nevis - KNASaint Lucia - LCASaint Pierre and Miquelon - SPMSaint Vincent and the Grenadines - VCTSan Marino - SMRSaudi Arabia - SAUSenegal - SENSerbia - SRBSeychelles - SYCSierra Leone - SLESingapore - SGPSlovakia - SVKSlovenia - SVNSolomon Islands - SLBSomalia - SOMSouth Africa - ZAFSpain - ESPSri Lanka - LKASuriname - SURSwaziland - SWZSweden - SWESwitzerland - CHETaiwan - TWNTajikistan - TJKTanzania - TZAThailand - THATogo - TGOTonga - TONTrinidad and Tobago - TTOTunisia - TUNTurkey - TURTurkmenistan - TKMTurks and Caicos Islands - TCATuvalu - TUVUganda - UGAUkraine - UKRUnited Arab Emirates - AREUnited Kingdom - GBRUnited States - USAUruguay - URUUzbekistan - UZBVanuatu - VUTVatican City State - VATVenezuela - VENVietnam - VNMVirgin Islands (U.S) - VIRWallis and Futuna - WLFWestern Sahara - ESHWestern Samoa - WSMYemen - YEMZambia - ZMBZimbabwe - ZWE7S0ponso rPA Eed-1 UJ 0F -1-1  PriceUnder $280.00 - apply Price filter$280.00 to $460.00 - apply Price filterOver $460.00 - apply Price filterRelease Year2012 - apply Release Year filter2013 - apply Release Year filter2015 - apply Release Year filter2016 - apply Release Year filter2017 - apply Release Year filter2018 - apply Release Year filter2019 - apply Release Year filter2020 - apply Release Year filterSeriesMacBook Pro - apply Series filterMacBook Air - apply Series filterMacBook - apply Series filterScreen Size13-13.9 in - apply Screen Size filter15-15.9 in - apply Screen Size filter16-16.9 in - apply Screen Size filter12-12.9 in - apply Screen Size filterApple MacBook Pro 13\" Laptop | 1TB SSD | 16GB RAM | OSX-2019 | WARRANTY ! ! !FAST FREE SHIPPING + SUPPORT + UPGRADED + PERFORMANCERefurbished · 2010 · 13.3 in · 1 TB$448.86Was: Previous Price$498.73  10% offor Best Offer+$84.99 shippingfrom United States HMS ponsLRor eVdA 84 Apple MacBook Pro 13 | MacOS Big Sur 2020 | 16GB RAM | 1TB SSD | WARRANTY | FAST SHIPPING TAKES 1-3 DAYS + 24/7 SUPPORT + WARRANTYPre-Owned · 2012 · 13.3 in · 1 TB$564.96Was: Previous Price$629.95  10% offor Best Offer+$84.99 shippingfrom United States VSGp onJ5s TQ 4oFr EeQd Apple MacBook Pro 13.3\" A1278 - Core i5 2.3ghz - 4GB RAM - 250GB HDDGood condition! Fast, free delivery! 12 month warranty!Refurbished · 2011 · 13.3 in · 250 GB$289.77Customs services and international tracking providedBuy It Now+$79.57 shipping estimatefrom United Kingdom87 sold S84 ponsoredFP WN C2 6KMacBook Pro 13\" Apple Laptop | i7 | 1TB SSD | 16GB RAM | MacOS | WARRANTY3 YEAR WARRANTY - CUSTOMIZE YOUR MODEL - FAST SHIPRefurbished$289.86 to $654.58Top Rated SellerTop Rated SellerBuy It NowCustoms services and international tracking provided+$49.13 shipping estimatefrom United States SponUsorH YTe ZdI DO XNApple MacBook Pro 15 Retina 16GB RAM 1TB SSD OS2020 3.2GHz Quad Core i7 Turbo3 YEAR WARRANTY WITH CHARGER/CASE INCLUDED - FLASH SALERefurbished$697.00Top Rated SellerTop Rated Selleror Best OfferCustoms services and international tracking provided+$53.58 shipping estimatefrom United States SpQo8 Rns6 oIOre dSX XU GApple MacBook Pro 15 inch Laptop / Quad Core i7 / 8GB RAM 1TB / MacOS20173 YEAR WARRANTY WITH FULLY UPGRADED SPECS TO MAXRefurbished · 15 in$529.00Top Rated SellerTop Rated Selleror Best OfferCustoms services and international tracking provided+$50.37 shipping estimatefrom United States SID ponN5s ZT Wo7 redIB O15\" Apple MacBook Pro 500GB 4GB RAM Pre-Retina OSx-2015 3 YEAR WARRANTYFREE NEXT DAY SHIP * FREE CHARGER * FREE 3YR WARRANTYPre-Owned · 15.4 in$364.00Top Rated SellerTop Rated Selleror Best OfferCustoms services and international tracking provided+$57.08 shipping estimatefrom United States QS0ponsored DI 18 32015 Apple MacBook Pro 13 inch Retina / Dual Core i5/ 8GB / 128GB SSD OS Big Sur2 YEARS WARRANTY. NEXT DAY SHIPPING. QUICK RESPOND .Refurbished · 2015 · 13 in$399.99Customs services and international tracking providedBuy It Now+$51.23 shipping estimatefrom United States Spon3sO MoBred MT FM 5411\" Apple MacBook Air 1.4GHz Intel Core i5 4GB RAM 128GB SSD 2014 + WARRANTY!Pre-Owned · 2014 · 11.6 in · 128 GB4.5 out of 5 stars.222 product ratings - 11\" Apple MacBook Air 1.4GHz Intel Core i5 4GB RAM 128GB SSD 2014 + WARRANTY!$202.49Top Rated SellerTop Rated SellerWas: Previous Price$269.99  25% offCustoms services and international tracking providedBuy It Now+$53.99 shipping estimatefrom United States45 watchers 6SLp oTnRs 4Po reRG WN dH Apple MacBook Pro 13\" A1278 Mid-2012 Intel i5-3210M 4GB 500GB macOS 10.15 - ZYCOMPLETE WITH CHARGER AND BATTERY -SAME / NEXT DAY SHIPRefurbished · 2012 · 13 in · 500 GB$170.99Top Rated SellerTop Rated SellerWas: Previous Price$179.99  5% offBuy It Now+$255.02 shippingfrom United States SpoOn4 so9Y reTdP 6C DApple MacBook A1181 Mid-2009 Intel 2.13GHz 4GB RAM 160GB HDD OSX 10.11 - ZZPre-Owned · 2009 · 13.3 in · 160 GB$66.26Top Rated SellerTop Rated SellerWas: Previous Price$69.75  5% offBuy It Now+$255.02 shippingfrom United States 5OSp onsQF V6 ore1I F1  dApple Macbook Air 13-inch, Mid 2012 A1466 i7, 8GB RAM, 256GB SSDPre-Owned · 2012 · 13 in · 256 GB$152.50Customs services and international tracking provided5 bids · Time left5d 10h left+$92.81 shipping estimatefrom United States SZpoOn Kso9 WrLe d9O LX  Apple MacBook 13\" Laptop | UPGRADED 8GB RAM 1TB HD | OS HIGH SIERRA. WARRANTY15 COLORS TO CHOOSE  - NEXT DAY SHIPPING. QUICK RESPONDRefurbished$149.00 to $249.00Customs services and international tracking providedBuy It Now+$47.70 shipping estimatefrom United States TSpA XonsoredJ P7 KF15\" Apple MacBook Pro RETINA OS-2020 Quad Core i7 3.4Ghz 16GB 1TB SSD - WARRANTY3 YEAR WARRANTY - OS2020 BIG SUR - NEW 1TB SSD - CASERefurbished · 15 in · 1 TB$757.77Top Rated SellerTop Rated Selleror Best OfferCustoms services and international tracking provided+$61.31 shipping estimatefrom United States ZD SA1ponsor eKL 13 dFVApple Macbook Pro 13\" Laptop | i5 8GB RAM | 500GB HD | MacOS Catalina | WARRANTY2-3 DAYS SHIPPING + 3 YEARS WARRANTY + TECH SUPPORTRefurbished · 2012 · 13.3 in · 500 GB4.0 out of 5 stars.1 product rating - Apple Macbook Pro 13\" Laptop | i5 8GB RAM | 500GB HD | MacOS Catalina | WARRANTY$325.00Top Rated SellerTop Rated SellerBuy It NowCustoms services and international tracking provided+$46.47 shipping estimatefrom United States SpRoMnsor MI 3Z eB9 dTJ K MACBOOK PRO 13\" | CORE i5 | 1TB SSD | 16GB RAM | WARRANTY | OS-2019 CATALINA ! !BUILT TO ORDER | CUSTOM BUILT MACBOOK PROS | WARRANTYRefurbished$336.12 to $591.74Was: Previous Price$657.49  10% offBuy It Now+$84.99 shippingfrom United States 31Sp o1Vnsore dC7 6B MA APPLE MACBOOK AIR 13 INCH LAPTOP | TURBO BOOST | 3 YEAR WARRANTY | SSD OS2019OS2019 CATALINA - FAST SSD - WARRANTY - i5 TURBOPre-Owned · 13 in$382.00Top Rated SellerTop Rated Selleror Best OfferCustoms services and international tracking provided+$47.56 shipping estimatefrom United States SEK pNTonso r30 edOO NApple Macbook Air 13\" Laptop A1369 1.7GHz Core i5 4GB RAM 8x DL DVD SD 250GB SSDPre-Owned · 13.3 in$161.00Top Rated SellerTop Rated Seller30 bids · Time left1d 15h leftCustoms services and international tracking provided+$97.78 shipping estimatefrom United StatesBenefits charity SpGoX CU nQsoreBd 71 Apple Macbook Pro 13\" Core i5 2.5GHz 8GB RAM 500GB HDD | MacOS CatalinaRefurbished · 2012 · 13 in · 500 GB$265.00Top Rated SellerTop Rated Selleror Best OfferCustoms services and international tracking provided+$55.19 shipping estimatefrom United States S1pE OonGs oUrPed VB YApple macbook air 13 2015-core i5, 1,6 ghz, 4go ram, 128goPre-Owned · Apple$467.06or Best Offer+$26.86 shippingfrom France DW SM2pons or8W 1edS JMApple MacBook Air Laptop Core i7 2.2GHz 8GB RAM 256GB SSD 13\" MMGG2LL/A (2015)Refurbished · 2015 · 13 in$329.97Top Rated SellerTop Rated SellerList price: Previous Price$1,099.00  70% offCustoms services and international tracking providedBuy It Now+$43.32 shipping estimatefrom United StatesFree returns56 sold SDpGon NsoD Are2d 9C HApple Macbook Air M1 2020 13\" 13.3in 16GB 1TB SSD Space Gray - 7 chargesPre-Owned · 2020 · 13 in · 1 TB$1,499.00Customs services and international tracking providedBuy It Now+$75.47 shipping estimatefrom United States V9 0SL poNQnso Vr3 9edZ G Apple 2018 15\" MacBook Pro 2.2GHz i7/16GB/256GB Flash/555X 4GB/Space GrayPre-Owned · 2018 · 15.4 in · 256 GB5.0 out of 5 stars.50 product ratings - Apple 2018 15\" MacBook Pro 2.2GHz i7/16GB/256GB Flash/555X 4GB/Space Gray$899.00Top Rated SellerTop Rated Selleror Best OfferCustoms services and international tracking provided+$67.30 shipping estimatefrom United StatesLast one73 sold IC RPS 1Wp oHnAsor edCJApple Macbook Pro Laptop 13-inch Mid 2009Pre-Owned · 2009 · 13 in$113.15Customs services and international tracking provided34 bids · Time left8h 34m left+$109.48 shipping estimatefrom United Kingdom JSpUo nCUs o6r7 AL e3dF JApple MacBook Retina 2017 12\" Intel Core M3 Rose Gold 256GB SSD Big SurPre-Owned · 2017 · 12 in · 256 GB5.0 out of 5 stars.15 product ratings - Apple MacBook Retina 2017 12\" Intel Core M3 Rose Gold 256GB SSD Big Sur$379.99Customs services and international tracking providedBuy It Now+$51.88 shipping estimatefrom United States IS7p 7Xons AoY GOr UY Led 2015 Apple MacBook Pro 15 inch Retina / Core i7 3.4Ghz / 16GB RAM / 1TB SSD3 YEAR WARRANTY - FREE/FAST SHIPPING - UPGRADED CUSTOMRefurbished · 2015 · 15 in · 1 TB$797.00Top Rated SellerTop Rated Selleror Best OfferCustoms services and international tracking provided+$55.49 shipping estimatefrom United States XSpoNns or3eS dYH U7Apple Macbook Pro 13\" Retina (2013) - i5 2.6GHz - Choose Specs & ConditionPre-Owned$279.95Top Rated SellerTop Rated SellerBuy It NowCustoms services and international tracking provided+$52.18 shipping estimatefrom United States SpoPG Kn9 4soPr WN ed4K Apple MacBook Air 13” Retina A1932 i5 1.6GHz 128GB SSD 8GB MRE82LL/APre-Owned · 2018 · 13.3 in$399.99Customs services and international tracking provided0 bids · Time left5d 12h left$549.99Buy It Now+$73.41 shipping estimatefrom United States 4SponU 2Bs JMore dDW 6F 2015 Apple MacBook Pro 13\" Retina/ Dual Core i5/ 8GB /128GB SSD OS Big SurWARRANTY. NEXT DAY SHIPPING. WARRANTYPre-Owned · 2015 · 13.9 in$329.00Customs services and international tracking providedBuy It Now+$49.88 shipping estimatefrom United States9 watchers JFS 9pP onZMsor Me8d F9 9MacBook Pro 13\" Apple Laptop | i7 | 1TB SSD | 16GB RAM | MacOS | OS2018/2019CONFIGURABLE MACBOOK  |  3 YEAR WARRANTY | SUPPORT LINEPre-Owned$257.00 to $592.00Top Rated SellerTop Rated SellerBuy It NowCustoms services and international tracking provided+$44.35 shipping estimatefrom United States BS1p onsIRo SJ XreCd 1N VApple MacBook Pro 2019 i7-9750H 2.60GHz 16GB DDR4 512GB SSD Catalina - CL7444Pre-Owned · 2019 · 16 in$730.00Top Rated SellerTop Rated Seller22 bids · Time left3d 9h leftCustoms services and international tracking provided+$64.07 shipping estimatefrom United States ASponsW oredBE 2017 MacBook Pro Retina 13” A1708 Space Gray 2.3Ghz i5 8GB 256GB Apple Care + #WPre-Owned · 2017 · 13.3 in · 256 GB5.0 out of 5 stars.12 product ratings - 2017 MacBook Pro Retina 13” A1708 Space Gray 2.3Ghz i5 8GB 256GB Apple Care + #W$529.95Customs services and international tracking providedBuy It Now+$53.72 shipping estimatefrom United States SXB poBnsRo SSred DT 41Apple MacBook Pro Retina 15\" Turbo i7 3.2GHz Quad Core 16GB RAM 1TB SSD OS2019 3 YEAR WARRANTY WITH SUPPORT - CHARGER AND CASE INC.Pre-Owned · 15.4 in$697.00Top Rated SellerTop Rated Selleror Best OfferCustoms services and international tracking provided+$50.33 shipping estimatefrom United States SpZOo nsoKreF BV 8A dT5 Apple 13\" MacBook Pro 2020 2.0GHz Core i5 512GB SSD 16GB A2251 MWP42LL/APre-Owned · 2020 · 13 in5.0 out of 5 stars.41 product ratings - Apple 13\" MacBook Pro 2020 2.0GHz Core i5 512GB SSD 16GB A2251 MWP42LL/A$285.00Top Rated SellerTop Rated Seller35 bids · Time left6d 12h leftCustoms services and international tracking provided+$61.57 shipping estimatefrom United States SpoJI nsEo1r ePdQ 722017/2018 Apple MacBook Air 13 i7 3.2GHz Turbo 8GB RAM 1TB SSD - WARRANTY3 YEAR WARRANTY INCLUDED - WE INCLUDE CHARGER AND CASERefurbished · 13.9 in$633.00Top Rated SellerTop Rated Selleror Best OfferCustoms services and international tracking provided+$52.36 shipping estimatefrom United States SponsoNRre dC8 MG LOT OF 2 - APPLE MACBOOK AIR A1466 i5-5250U 1.60GHz 4GB 8GB 120GB 128GB SSDPre-Owned · 2015 · 13.3 in$255.00Top Rated SellerTop Rated Seller20 bids · Time left3d 10h leftCustoms services and international tracking provided+$64.77 shipping estimatefrom United States Sp1ons1o 8rJ edHR 5N Apple MacBook Air 2017 13\" Laptop - MQD32LL/A Core i5 1.8GHz 8GB 256GB SSDPre-Owned · 2017 · 13 in · 256 GB4.5 out of 5 stars.8 product ratings - Apple MacBook Air 2017 13\" Laptop - MQD32LL/A Core i5 1.8GHz 8GB 256GB SSD$344.95Customs services and international tracking providedor Best Offer+$50.18 shipping estimatefrom United States SFH pon1sSor BeKd HL 60 Apple MacBook Air A1466 MQD32LL/A 13.3\" Laptop w/i5-5350U 1.8GHz 8GB 128GB SSDRefurbished · 2017 · 13.3 in5.0 out of 5 stars.3 product ratings - Apple MacBook Air A1466 MQD32LL/A 13.3\" Laptop w/i5-5350U 1.8GHz 8GB 128GB SSD$379.05Customs services and international tracking providedList price: Previous Price$399.00  5% offBuy It Now+$44.25 shipping estimatefrom United States ISpo7ns oWB TGr eDdP YS P2017/2018 Apple MacBook Air 13 i7 3.2GHz Turbo 8GB RAM 512GB SSD - WARRANTY3 YEAR WARRANTY INCLUDED - WE INCLUDE CHARGER AND CASEPre-Owned · 13.9 in$589.00Top Rated SellerTop Rated Selleror Best OfferCustoms services and international tracking provided+$51.51 shipping estimatefrom United States SBXp onsoNredY YT BSApple MacBook Air 13'' (2019)- (8GB RAM - 256GB SSD) A Grade Excellent ConditionRefurbished$482.95 to $717.53Top Rated SellerTop Rated SellerBuy It NowCustoms services and international tracking provided+$83.72 shipping estimatefrom United Kingdom12+ watchers SpoLnsH UoD rU6 J1 eKd5Apple A1466 MacBook Air 13\" Intel i7-5650U 8GB 128GB SSD 10.13 CC 579 RepairPre-Owned · 13 in5.0 out of 5 stars.1 product rating - Apple A1466 MacBook Air 13\" Intel i7-5650U 8GB 128GB SSD 10.13 CC 579 Repair$279.99Customs services and international tracking providedor Best Offer+$48.94 shipping estimatefrom United StatesBenefits charity SpQonsoJr CP eWdH L4macbook pro 15-inch Core i7 - Early 2013Pre-Owned · 2013 · 15 in$146.27Customs services and international tracking provided4 bids · Time left3d 5h left+$117.10 shipping estimatefrom United Kingdom Sp7I onTsPor edQT B2 IKApple MacBook Air 11.6\" A1465 MJVM2LL/A w/i5-5250U 1.6GHz 4GB 128GB SSD - UsedPre-Owned · 2015 · 11.6 in · 128 GB4.5 out of 5 stars.437 product ratings - Apple MacBook Air 11.6\" A1465 MJVM2LL/A w/i5-5250U 1.6GHz 4GB 128GB SSD - Used$169.00Customs services and international tracking providedWas: Previous Price$269.00  37% offBuy It Now+$36.85 shipping estimatefrom United States HSpoZ nI6 sCAo r6edM 09POWER Apple MacBook Pro 2015 15\" 2.5GHz Intel i7 512GB SSD 16GB RAM + WARRANTYPre-Owned · 2015 · 15 in · 512 GB$699.99Customs services and international tracking providedBuy It Now+$60.20 shipping estimatefrom United StatesLast one6 sold SGponsoYr SE MedB WU KApple MacBook Pro 16\" 2019 2.3GHz i9 8-Core/32GB/1TB SSD/5500M 8GB/Apple Care+Pre-Owned · 2019 · 16 in · 1 TB4.5 out of 5 stars.51 product ratings - Apple MacBook Pro 16\" 2019 2.3GHz i9 8-Core/32GB/1TB SSD/5500M 8GB/Apple Care+$2,100.00Customs services and international tracking providedor Best Offer+$86.94 shipping estimatefrom United States Sp7onsKo D6 S8r e8I d9D RApple MacBook Air 13.3\" - 128gb SSD - 8GB of ram!!Refurbished · 2015 · 13.3 in$320.00Customs services and international tracking providedor Best Offer+$69.66 shipping estimatefrom United States S3ponH soredPH 42 Apple MacBook Pro 13.3\" A1502 Core i5, 2.7GHz 8GB RAM - 128GB SSD Flash StoragePre-Owned · 2015 · 13.3 in$206.99Customs services and international tracking provided20 bids · Time left4d 11h left+$107.34 shipping estimatefrom United Kingdom 3LSponsor edYC BT Apple MacBook Pro 15 inch Laptop | QUAD CORE i7 | 16GB RAM | 1TB SSD | 1 GPUPre-Owned · 15 in$474.00Top Rated SellerTop Rated Selleror Best OfferCustoms services and international tracking provided+$46.07 shipping estimatefrom United States SpSo3n 7soreTd PB 6P 1Apple 13\" MacBook Pro 3.2 GHz Apple M1 256GB 8GB RAM 2020 Pre-Owned · 2020 · 13 in · 256 GB4.5 out of 5 stars.26 product ratings - Apple 13\" MacBook Pro 3.2 GHz Apple M1 256GB 8GB RAM 2020 $290.00Top Rated SellerTop Rated Seller29 bids · Time left6d 8h leftCustoms services and international tracking provided+$61.66 shipping estimatefrom United States SY9 pJoD nsMo5red LO MacBook Pro A1708 (2017) Intel Core i5 2.3GHz 8GB RAM 128GB SSD !READ! LPT-401Pre-Owned · 2017 · 13.3 in$399.99Customs services and international tracking providedBuy It Now+$44.65 shipping estimatefrom United States FD KSp3 oInsT oXredP DLApple MacBook Air 13in (256GB SSD, M1, 8GB) Laptop - Silver - MGN93LL/A (NovembeBrand New · 2020 · 13 in · 256 GB4.5 out of 5 stars.10 product ratings - Apple MacBook Air 13in (256GB SSD, M1, 8GB) Laptop - Silver - MGN93LL/A (Novembe$856.00Customs services and international tracking provided62 bids · Time left1d 6h left+$68.93 shipping estimatefrom United States 85S po0nB so8Fr edQL Apple MacBook Air Touch ID 2020 13\" Laptop 512GB SSD 8GB RAM Silver WarrantyPre-Owned · 2020 · 13 in · 512 GB$827.10Customs services and international tracking providedWas: Previous Price$919.00  10% offBuy It Now+$59.39 shipping estimatefrom United States 9L Sp5onso2re d85 IQ X4Apple MacBook AirPre-Owned · 2011 · 13 in$172.49Customs services and international tracking provided0 bids · Time left1d 2h leftor Best Offer+$88.26 shipping estimatefrom United Kingdom QCSponsor HedH IApple MacBook 12-inch A1534 MNYG2LL/A w/i7-7Y75 1.4GHz 16GB 512GB SSDRefurbished · 2017 · 12 in · 512 GB5.0 out of 5 stars.15 product ratings - Apple MacBook 12-inch A1534 MNYG2LL/A w/i7-7Y75 1.4GHz 16GB 512GB SSD$607.99Customs services and international tracking providedWas: Previous Price$639.99  5% offBuy It Now+$48.63 shipping estimatefrom United StatesLast one16 watchers AQ SpJon7s KZ oHreWd 4BMacBook Pro 13 Inch, 2017, Two Thunderbolt 3 Ports 2.3Ghz IntelCore i5 SSD 256GBPre-Owned · 2017 · 13 in · 8 GB$399.00Customs services and international tracking provided0 bids · Time left3d 11h leftor Best Offer+$44.64 shipping estimatefrom United States TSIp onVsAo 3red4 G6 1B2012 Apple Macbook Pro 15in - 2.3ghz  i7 - Choose Specs & Condition - ANTI GLAREPre-Owned$229.95Top Rated SellerTop Rated SellerBuy It NowCustoms services and international tracking provided+$51.23 shipping estimatefrom United States SpoMNn sT7ore dF6 MApple Macbook Core M3 1.1GHz 8GB RAM 256GB SSD 12\" Gold MLHE2LL/A 2016 WORN KEYSPre-Owned · 2016 · 12 in · 256 GB5.0 out of 5 stars.23 product ratings - Apple Macbook Core M3 1.1GHz 8GB RAM 256GB SSD 12\" Gold MLHE2LL/A 2016 WORN KEYS$165.50Top Rated SellerTop Rated Seller10 bids · Time left5d 9h leftCustoms services and international tracking provided+$48.17 shipping estimatefrom United StatesFree returns Sp5onsore5d G1 N0 GZ QNew ListingAPPLE MACBOOK PRO 13\"  PRE-RETINA / CORE i7 / 16GB / 1TB SSD / WARRANTYRefurbished$290.98 to $678.50Top Rated SellerTop Rated SellerBuy It NowCustoms services and international tracking provided+$49.15 shipping estimatefrom United States S3poP 2V nsoreBd3 EZ 5Q LApple MacBook Pro 13\" Retina 128GB Core i5 8GB RAM Spce Gry, MPXQ2LL/A Mid 2017Pre-Owned · 2017 · 13.3 in · 128 GB5.0 out of 5 stars.108 product ratings - Apple MacBook Pro 13\" Retina 128GB Core i5 8GB RAM Spce Gry, MPXQ2LL/A Mid 2017$242.50Customs services and international tracking provided22 bids · Time left1d 9h left+$68.68 shipping estimatefrom United States SUp5 ons2o4re 2dT IC WP2019 16\" MacBook Pro Intel i9 2.3GHz/16GB/1TB SSD/AMD 5500M/Brand New Condition!Pre-Owned · 2019 · 16 in · 1 TB4.5 out of 5 stars.51 product ratings - 2019 16\" MacBook Pro Intel i9 2.3GHz/16GB/1TB SSD/AMD 5500M/Brand New Condition!$1,750.00Top Rated SellerTop Rated Selleror Best OfferCustoms services and international tracking provided+$80.26 shipping estimatefrom United States SBP p9oRn sorZedX T7 WMacBook Pro Retina 16 inch Refurbished · 2019 · 16 in · 500 GB$474.00Customs services and international tracking provided2 bids · Time left2d 16h left+$99.17 shipping estimatefrom United States SXponUsore MdJ 52VERY NICE 15\" MacBook Pro TOUCH BAR 2.7GHz Core i7 16GB RAM 512GB 2016 + WNTY!Pre-Owned · 2016 · 15.4 in5.0 out of 5 stars.8 product ratings - VERY NICE 15\" MacBook Pro TOUCH BAR 2.7GHz Core i7 16GB RAM 512GB 2016 + WNTY!$829.99Top Rated SellerTop Rated SellerBuy It NowCustoms services and international tracking provided+$62.69 shipping estimatefrom United States KT LSp8 onsPLor 2Le 5dT S Apple MacBook Core M5 1.2GHz 8GB RAM 512GB SSD 12\" Rose Gold MMGM2LL/A (2016)Refurbished · 2016 · 14 in · 512 GB5.0 out of 5 stars.12 product ratings - Apple MacBook Core M5 1.2GHz 8GB RAM 512GB SSD 12\" Rose Gold MMGM2LL/A (2016)$459.97Top Rated SellerTop Rated SellerList price: Previous Price$1,299.00  65% offCustoms services and international tracking providedBuy It Now+$45.80 shipping estimatefrom United StatesFree returns31 watchers SponWsoU rF5 E9 K0e 37d Apple MacBook Pro 15\" 3.4GHz Quad Core i7 Laptop Turbo 16GB RAM 1TB OS20193 YEAR WARRANTY WITH FULLY UPGRADED SPECS TO MAXRefurbished · 15 in$628.00Top Rated SellerTop Rated Selleror Best OfferCustoms services and international tracking provided+$52.26 shipping estimatefrom United States SQpo7n soYrEe d45 Z3 HApple MacBook Pro 15.4in 4th Gen i7 16GB RAM 250GB SSD Mid 2015 A1398 WebCam12 Month Warranty - Fast Dispatch - Invoice on RequestRefurbished$619.58 to $683.05Customs services and international tracking providedBuy It Now+$88.02 shipping estimatefrom United Kingdom70+ watchers JSDp onsJT oredQ5 OR U22017 Apple MacBook Air 13 inch Retina / Dual Core i5/ 8GB / 128GB SSD OS Big Sur2 YEARS WARRANTY. NEXT DAY SHIPPING. QUICK RESPOND .Pre-Owned · 2017 · 13.9 in · 128 GB$469.00Customs services and international tracking providedBuy It Now+$55.79 shipping estimatefrom United States SFJp oAJ AnsorJ edDX HResults Pagination - Page 112345678910Items Per Page5025Items Per Page100Items Per Page200Items Per PageFeedbackLeave feedback about your eBay search experience - opens in new window or tab\n",
      "\n",
      "\n",
      "\n",
      "\n",
      "Additional site navigationAbout eBayAnnouncementsCommunitySecurity CenterSeller Information CenterPoliciesAffiliatesHelp & ContactSite MapCopyright © 1995-2021 eBay Inc. All Rights Reserved. Accessibility, User Agreement, Privacy, Cookies, Do not sell my personal information and AdChoiceNorton Secured - powered by DigiCert*Learn about pricingThis page was last updated: 29-Oct 00:12. Number of bids and bid amounts may be slightly out of date. See each listing for international shipping options and costs.\n",
      "\n",
      "\n"
     ]
    },
    {
     "ename": "AttributeError",
     "evalue": "'NoneType' object has no attribute 'append'",
     "output_type": "error",
     "traceback": [
      "\u001b[1;31m---------------------------------------------------------------------------\u001b[0m",
      "\u001b[1;31mAttributeError\u001b[0m                            Traceback (most recent call last)",
      "\u001b[1;32m<ipython-input-10-5fd138a99c94>\u001b[0m in \u001b[0;36m<module>\u001b[1;34m\u001b[0m\n\u001b[0;32m     33\u001b[0m     \u001b[0mprice\u001b[0m\u001b[1;33m=\u001b[0m\u001b[0ma\u001b[0m\u001b[1;33m.\u001b[0m\u001b[0mfind\u001b[0m\u001b[1;33m(\u001b[0m\u001b[1;34m'div'\u001b[0m\u001b[1;33m,\u001b[0m \u001b[0mattrs\u001b[0m\u001b[1;33m=\u001b[0m\u001b[1;33m{\u001b[0m\u001b[1;34m'class'\u001b[0m\u001b[1;33m:\u001b[0m\u001b[1;34m's-item__detail s-item__detail--primary'\u001b[0m\u001b[1;33m}\u001b[0m\u001b[1;33m)\u001b[0m\u001b[1;33m\u001b[0m\u001b[1;33m\u001b[0m\u001b[0m\n\u001b[0;32m     34\u001b[0m     \u001b[0mrating\u001b[0m\u001b[1;33m=\u001b[0m\u001b[0ma\u001b[0m\u001b[1;33m.\u001b[0m\u001b[0mfind\u001b[0m\u001b[1;33m(\u001b[0m\u001b[1;34m'div'\u001b[0m\u001b[1;33m,\u001b[0m \u001b[0mattrs\u001b[0m\u001b[1;33m=\u001b[0m\u001b[1;33m{\u001b[0m\u001b[1;34m'class'\u001b[0m\u001b[1;33m:\u001b[0m\u001b[1;34m'rating'\u001b[0m\u001b[1;33m}\u001b[0m\u001b[1;33m)\u001b[0m\u001b[1;33m\u001b[0m\u001b[1;33m\u001b[0m\u001b[0m\n\u001b[1;32m---> 35\u001b[1;33m     \u001b[0mproducts\u001b[0m\u001b[1;33m.\u001b[0m\u001b[0mappend\u001b[0m\u001b[1;33m(\u001b[0m\u001b[0mproducts\u001b[0m\u001b[1;33m.\u001b[0m\u001b[0mtext\u001b[0m\u001b[1;33m)\u001b[0m\u001b[1;33m\u001b[0m\u001b[1;33m\u001b[0m\u001b[0m\n\u001b[0m\u001b[0;32m     36\u001b[0m     \u001b[0mprices\u001b[0m\u001b[1;33m.\u001b[0m\u001b[0mappend\u001b[0m\u001b[1;33m(\u001b[0m\u001b[0mprice\u001b[0m\u001b[1;33m.\u001b[0m\u001b[0mtext\u001b[0m\u001b[1;33m)\u001b[0m\u001b[1;33m\u001b[0m\u001b[1;33m\u001b[0m\u001b[0m\n\u001b[0;32m     37\u001b[0m \u001b[1;31m#     ratings.append(rating.text)\u001b[0m\u001b[1;33m\u001b[0m\u001b[1;33m\u001b[0m\u001b[1;33m\u001b[0m\u001b[0m\n",
      "\u001b[1;31mAttributeError\u001b[0m: 'NoneType' object has no attribute 'append'"
     ]
    }
   ],
   "source": [
    "from selenium import webdriver \n",
    "from bs4 import BeautifulSoup\n",
    "import pandas as pd\n",
    "import requests\n",
    "from time import sleep\n",
    "\n",
    "# browser =  r\"C:\\Users\\DELL\\Desktop\\web driver\\chrome.exe\"\n",
    "\n",
    "url = 'https://www.ebay.com/sch/i.html?_from=R40&_trksid=p2540003.m570.l1313&_nkw=macbook&_sacat=0'\n",
    "req = requests.get(url)\n",
    "soup = BeautifulSoup(req.content , 'html.parser')\n",
    "\n",
    "\n",
    "# print(soup.prettify())\n",
    "print(soup.get_text())\n",
    "\n",
    "url_list = []\n",
    "# df = pd.read_csv('laptop.csv')\n",
    "# df\n",
    "\n",
    "url = 'https://www.ebay.com/sch/i.html?_from=R40&_trksid=p2540003.m570.l1313&_nkw=macbook&_sacat=0'\n",
    "products=[] \n",
    "prices=[]  \n",
    "ratings=[]\n",
    "\n",
    "# content = driver.page_source\n",
    "\n",
    "\n",
    "for a in soup.findAll('div',attrs={'class':'srp-river-results clearfix'}):\n",
    "#     print (a)\n",
    "    \n",
    "    products=a.find('a', attrs={'class':'s-item__title'})\n",
    "    price=a.find('div', attrs={'class':'s-item__detail s-item__detail--primary'})\n",
    "    rating=a.find('div', attrs={'class':'rating'})\n",
    "    products.append(products.text)\n",
    "    prices.append(price.text)\n",
    "#     ratings.append(rating.text)\n",
    "    \n",
    "df = pd.DataFrame({'Product Name':products,'Price':prices,'Rating':ratings})\n",
    "df.to_csv('products.csv', index=False, encoding='utf-8')"
   ]
  },
  {
   "cell_type": "code",
   "execution_count": null,
   "id": "39062d95",
   "metadata": {},
   "outputs": [],
   "source": []
  }
 ],
 "metadata": {
  "kernelspec": {
   "display_name": "Python 3",
   "language": "python",
   "name": "python3"
  },
  "language_info": {
   "codemirror_mode": {
    "name": "ipython",
    "version": 3
   },
   "file_extension": ".py",
   "mimetype": "text/x-python",
   "name": "python",
   "nbconvert_exporter": "python",
   "pygments_lexer": "ipython3",
   "version": "3.8.8"
  }
 },
 "nbformat": 4,
 "nbformat_minor": 5
}
